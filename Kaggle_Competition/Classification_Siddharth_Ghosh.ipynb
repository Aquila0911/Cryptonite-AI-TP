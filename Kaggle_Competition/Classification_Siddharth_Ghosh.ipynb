{
 "cells": [
  {
   "cell_type": "code",
   "execution_count": 2,
   "id": "31f1a738-c3bd-4931-80d1-fb5217c2881c",
   "metadata": {},
   "outputs": [],
   "source": [
    "import pandas as pd\n",
    "import numpy as np\n",
    "from sklearn.model_selection import train_test_split, cross_val_score\n",
    "from sklearn.preprocessing import LabelEncoder, StandardScaler\n",
    "from sklearn.linear_model import LogisticRegression\n",
    "from sklearn.metrics import accuracy_score, classification_report\n",
    "from sklearn.impute import SimpleImputer\n",
    "import matplotlib.pyplot as plt\n",
    "\n",
    "train_df = pd.read_csv('./datasets/cirrhosis/train.csv')\n",
    "test_df = pd.read_csv('./datasets/cirrhosis/test.csv')"
   ]
  },
  {
   "cell_type": "code",
   "execution_count": 4,
   "id": "2cf0f2a3-0138-49c3-9862-a0789c76f6b4",
   "metadata": {},
   "outputs": [],
   "source": [
    "# Encode target variable\n",
    "label_encoder = LabelEncoder()\n",
    "train_df['Status'] = label_encoder.fit_transform(train_df['Status'])"
   ]
  },
  {
   "cell_type": "code",
   "execution_count": 6,
   "id": "203699c9-e36a-4339-921e-56079900dae7",
   "metadata": {},
   "outputs": [],
   "source": [
    "# Combine datasets for consistency in encoding\n",
    "combined_df = pd.concat([train_df, test_df], ignore_index=True, sort=False)"
   ]
  },
  {
   "cell_type": "code",
   "execution_count": 8,
   "id": "2f1aaae9-86bd-4e3b-b9d8-8e167c12fa10",
   "metadata": {},
   "outputs": [],
   "source": [
    "# Encode other categorical variable\n",
    "cat_cols = ['Sex', 'Ascites', 'Hepatomegaly', 'Spiders', 'Edema']\n",
    "for feature in cat_cols:\n",
    "    combined_df[feature] = label_encoder.fit_transform(combined_df[feature].fillna('Unknown'))"
   ]
  },
  {
   "cell_type": "code",
   "execution_count": 12,
   "id": "c6b18994-2943-4028-ad1f-6b3ac1bb92c2",
   "metadata": {},
   "outputs": [],
   "source": [
    "# Split the datasets back\n",
    "train_df = combined_df.iloc[:len(train_df)].copy()\n",
    "test_df = combined_df.iloc[len(train_df):].copy()"
   ]
  },
  {
   "cell_type": "code",
   "execution_count": 14,
   "id": "6858dde3-f9e3-4ccc-b8e3-afa89c1a1bc1",
   "metadata": {},
   "outputs": [],
   "source": [
    "# Dropping cols with >50% null values\n",
    "col_drop = ['Cholesterol', 'Tryglicerides']\n",
    "train_df.drop(columns=col_drop, inplace=True)\n",
    "test_df.drop(columns=col_drop, inplace=True)"
   ]
  },
  {
   "cell_type": "code",
   "execution_count": 16,
   "id": "f5266c39-42e8-46ac-9671-45fb0e21d999",
   "metadata": {},
   "outputs": [],
   "source": [
    "# Imputing numerical null values\n",
    "num_imputer = SimpleImputer(strategy = 'median')\n",
    "\n",
    "impute_cols = ['Copper', 'Alk_Phos', 'SGOT', 'Platelets', 'Prothrombin']\n",
    "for features in impute_cols:\n",
    "    train_df[features] = num_imputer.fit_transform(train_df[[features]])\n",
    "    test_df[features] = num_imputer.fit_transform(test_df[[features]])"
   ]
  },
  {
   "cell_type": "code",
   "execution_count": 18,
   "id": "96e39c29-c222-405d-a0ae-f6c1f85a2398",
   "metadata": {},
   "outputs": [],
   "source": [
    "# Filling missing Drug values with Unknown and encoding\n",
    "train_df['Drug'] = train_df['Drug'].fillna('Unknown')\n",
    "test_df['Drug'] = test_df['Drug'].fillna('Unknown')\n",
    "\n",
    "train_df['Drug'] = label_encoder.fit_transform(train_df['Drug'])\n",
    "test_df['Drug'] = label_encoder.fit_transform(test_df['Drug'])"
   ]
  },
  {
   "cell_type": "code",
   "execution_count": 87,
   "id": "0a67cbd5-a6d0-4a8d-92c0-21f1a3fe6665",
   "metadata": {},
   "outputs": [],
   "source": [
    "X_train = train_df.drop('Status', axis=1)\n",
    "y_train = train_df['Status']\n",
    "X_test = test_df.drop('Status', axis=1)"
   ]
  },
  {
   "cell_type": "code",
   "execution_count": 91,
   "id": "ba505e4d-3b1f-4d45-979e-4dc193100c11",
   "metadata": {},
   "outputs": [],
   "source": [
    "# Scaling\n",
    "scaler = StandardScaler()\n",
    "X_train_scaled = scaler.fit_transform(X_train)\n",
    "X_test_scaled = scaler.transform(X_test)"
   ]
  },
  {
   "cell_type": "code",
   "execution_count": 34,
   "id": "531e36a1-40b4-4137-bba2-c6616fb2a98f",
   "metadata": {},
   "outputs": [],
   "source": [
    "# Convert scaled arrays back to DataFrames to retain feature names\n",
    "X_train = pd.DataFrame(X_train_scaled, columns=X_train.columns)\n",
    "X_test = pd.DataFrame(X_test_scaled, columns=X_test.columns)"
   ]
  },
  {
   "cell_type": "code",
   "execution_count": 62,
   "id": "79b955eb-0d6f-4807-b8fb-999ec4bfe484",
   "metadata": {},
   "outputs": [],
   "source": [
    "model = LogisticRegression(max_iter=2000, random_state=42)\n",
    "model.fit(X_train, y_train)\n",
    "\n",
    "y_pred = model.predict_proba(X_test)"
   ]
  },
  {
   "cell_type": "code",
   "execution_count": 64,
   "id": "9ce23cc3-cda4-4a1a-8423-d0a3d16c8050",
   "metadata": {},
   "outputs": [
    {
     "name": "stdout",
     "output_type": "stream",
     "text": [
      "Cross-Validation Accuracy Scores: [0.83266667 0.826      0.83433333 0.82266667 0.82466667]\n",
      "Mean Cross-Validation Accuracy: 0.8280666666666667\n"
     ]
    }
   ],
   "source": [
    "# Cross validation\n",
    "cv_scores = cross_val_score(model, X_train, y_train, cv=5, scoring='accuracy')\n",
    "print(f\"Cross-Validation Accuracy Scores: {cv_scores}\")\n",
    "print(f\"Mean Cross-Validation Accuracy: {np.mean(cv_scores)}\")"
   ]
  },
  {
   "cell_type": "code",
   "execution_count": 82,
   "id": "dc8584b4-3eca-46d2-9c2d-ede098e112ad",
   "metadata": {},
   "outputs": [],
   "source": [
    "# Creating submission df\n",
    "submission_df = pd.DataFrame({\n",
    "    'id': test_df['id'],\n",
    "    'Status_C': y_pred[:, 0],\n",
    "    'Status_CL': y_pred[:, 1],\n",
    "    'Status_D': y_pred[:, 2]\n",
    "})\n",
    "\n",
    "submission_df.to_csv('cirrhosis-submission.csv', index=False)"
   ]
  },
  {
   "cell_type": "code",
   "execution_count": null,
   "id": "428ef954-6125-4b50-a046-b71ccdeff497",
   "metadata": {},
   "outputs": [],
   "source": []
  }
 ],
 "metadata": {
  "kernelspec": {
   "display_name": "Python 3 (ipykernel)",
   "language": "python",
   "name": "python3"
  },
  "language_info": {
   "codemirror_mode": {
    "name": "ipython",
    "version": 3
   },
   "file_extension": ".py",
   "mimetype": "text/x-python",
   "name": "python",
   "nbconvert_exporter": "python",
   "pygments_lexer": "ipython3",
   "version": "3.11.7"
  }
 },
 "nbformat": 4,
 "nbformat_minor": 5
}
