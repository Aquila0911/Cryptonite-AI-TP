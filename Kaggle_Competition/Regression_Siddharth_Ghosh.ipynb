{
 "cells": [
  {
   "cell_type": "code",
   "execution_count": 127,
   "id": "4f51b514-cfaf-488b-842b-ae56b5788612",
   "metadata": {},
   "outputs": [],
   "source": [
    "import pandas as pd\n",
    "import numpy as np\n",
    "from sklearn.model_selection import train_test_split, cross_val_score\n",
    "from sklearn.ensemble import RandomForestRegressor\n",
    "from sklearn.metrics import mean_absolute_error\n",
    "import matplotlib.pyplot as plt\n",
    "\n",
    "train_df = pd.read_csv('./datasets/blueberry-regression/train.csv')\n",
    "test_df = pd.read_csv('./datasets/blueberry-regression/test.csv')"
   ]
  },
  {
   "cell_type": "code",
   "execution_count": 129,
   "id": "68b7a526-fc8a-4ad0-aa04-0a606f978461",
   "metadata": {},
   "outputs": [],
   "source": [
    "X_train = train_df.drop('yield', axis=1)\n",
    "y_train = train_df['yield']"
   ]
  },
  {
   "cell_type": "code",
   "execution_count": 131,
   "id": "9ece2591-9c1c-4a75-b35c-07b2f1d42921",
   "metadata": {},
   "outputs": [],
   "source": [
    "model = RandomForestRegressor(n_estimators=110, random_state=42)\n",
    "model.fit(X_train, y_train)\n",
    "y_pred_test = model.predict(test_df)"
   ]
  },
  {
   "cell_type": "code",
   "execution_count": 133,
   "id": "24bd9277-e8ec-495e-82b9-d4a775171fb8",
   "metadata": {},
   "outputs": [
    {
     "name": "stdout",
     "output_type": "stream",
     "text": [
      "Cross-Validation MAE Scores: [285.11426379 260.64585762 252.11642012 254.55938574 272.14133592]\n",
      "Average Cross-Validation MAE: 264.91545263849696\n"
     ]
    }
   ],
   "source": [
    "cv_scores = cross_val_score(model, X_train, y_train, cv=5, scoring='neg_mean_absolute_error')\n",
    "print(f\"Cross-Validation MAE Scores: {-cv_scores}\")\n",
    "print(f\"Average Cross-Validation MAE: {-cv_scores.mean()}\")"
   ]
  },
  {
   "cell_type": "code",
   "execution_count": 137,
   "id": "cfb7797d-4836-4c09-b7e7-8c1ed09fff35",
   "metadata": {},
   "outputs": [],
   "source": [
    "submission_df = pd.DataFrame({\n",
    "    'id': test_df['id'],  \n",
    "    'yield': y_pred_test\n",
    "})\n",
    "submission_df.to_csv('blueberry-submission.csv', index=False)"
   ]
  },
  {
   "cell_type": "code",
   "execution_count": null,
   "id": "45944552-dcf4-4be1-abcd-4f4de5420f2f",
   "metadata": {},
   "outputs": [],
   "source": []
  }
 ],
 "metadata": {
  "kernelspec": {
   "display_name": "Python 3 (ipykernel)",
   "language": "python",
   "name": "python3"
  },
  "language_info": {
   "codemirror_mode": {
    "name": "ipython",
    "version": 3
   },
   "file_extension": ".py",
   "mimetype": "text/x-python",
   "name": "python",
   "nbconvert_exporter": "python",
   "pygments_lexer": "ipython3",
   "version": "3.11.7"
  }
 },
 "nbformat": 4,
 "nbformat_minor": 5
}
